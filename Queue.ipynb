{
 "cells": [
  {
   "cell_type": "code",
   "execution_count": 1,
   "metadata": {},
   "outputs": [],
   "source": [
    "class Queue:\n",
    "    def __init__(self, capacity):\n",
    "        self.front = self.size = 0\n",
    "        self.rear = self.capacity - 1\n",
    "        self.Q = [None]*capacity\n",
    "        self.capacity = capacity\n",
    "        \n",
    "    def isFull(self):\n",
    "        return self.size == self.capacity\n",
    "    \n",
    "    def isEmpty(self):\n",
    "        return self.size == 0\n",
    "        \n",
    "    def enQueue(self, item):\n",
    "        if self.isFull():\n",
    "            print('Queue is Full')\n",
    "            return\n",
    "        self.rear = (self.rear+1)%self.capacity\n",
    "        self.Q[self.rear] = item\n",
    "        self.size = self.size+1\n",
    "        print('%s enqueue to queue' % str(item))\n",
    "        \n",
    "    def delQueue(self):\n",
    "        if self.isEmpty():\n",
    "            print('Queue is Empty')\n",
    "            return\n",
    "        print(\"%s dequeued from queue\" %str(self.Q[self.front])) \n",
    "        self.front = (self.front + 1) % (self.capacity) \n",
    "        self.size = self.size -1\n",
    "    \n",
    "    def que_front(self): \n",
    "        if self.isEmpty(): \n",
    "            print(\"Queue is empty\") \n",
    "  \n",
    "        print(\"Front item is\", self.Q[self.front])\n",
    "    \n",
    "    def que_rear(self): \n",
    "        if self.isEmpty(): \n",
    "            print(\"Queue is empty\") \n",
    "        print(\"Rear item is\",  self.Q[self.rear]) \n",
    "        "
   ]
  },
  {
   "cell_type": "code",
   "execution_count": null,
   "metadata": {},
   "outputs": [],
   "source": [
    "queue = Queue(30) \n",
    "queue.EnQueue(10) \n",
    "queue.EnQueue(20) \n",
    "queue.EnQueue(30) \n",
    "queue.EnQueue(40) \n",
    "    queue.DeQueue() \n",
    "    queue.que_front() \n",
    "    queue.que_rear() "
   ]
  }
 ],
 "metadata": {
  "kernelspec": {
   "display_name": "Python 3",
   "language": "python",
   "name": "python3"
  },
  "language_info": {
   "codemirror_mode": {
    "name": "ipython",
    "version": 3
   },
   "file_extension": ".py",
   "mimetype": "text/x-python",
   "name": "python",
   "nbconvert_exporter": "python",
   "pygments_lexer": "ipython3",
   "version": "3.6.6"
  }
 },
 "nbformat": 4,
 "nbformat_minor": 2
}
