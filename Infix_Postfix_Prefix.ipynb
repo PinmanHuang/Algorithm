{
 "cells": [
  {
   "cell_type": "code",
   "execution_count": 5,
   "metadata": {},
   "outputs": [],
   "source": [
    "import import_ipynb\n",
    "import Stack"
   ]
  },
  {
   "cell_type": "code",
   "execution_count": 13,
   "metadata": {},
   "outputs": [],
   "source": [
    "class Infix:\n",
    "    def __init__(self):\n",
    "        self.output = []\n",
    "        self.opStack = Stack.Stack()\n",
    "        self.opStack_2 = Stack.Stack()\n",
    "        self.precedence = {'(': 1, ')': 1, '+':2, '-':2, '*':3, '/':3, '^':4}\n",
    "        \n",
    "    def isOperand(self, ch):\n",
    "        return ch.isalpha()\n",
    "    \n",
    "    def isDigit(self, ch):\n",
    "        return ch.isdigit()\n",
    "    \n",
    "    def infixToPostfix(self, infix):\n",
    "        for token in infix:\n",
    "            if self.isOperand(token):\n",
    "                self.output.append(token)\n",
    "            elif token == '(':\n",
    "                self.opStack.push(token)\n",
    "            elif token == ')':\n",
    "                topToken = self.opStack.pop()\n",
    "                while topToken != '(':\n",
    "                    self.output.append(topToken)\n",
    "                    topToken = self.opStack.pop()\n",
    "            else:\n",
    "                while (not self.opStack.isEmpty()) and (self.precedence[self.opStack.peek()] >= self.precedence[token]):\n",
    "                      self.output.append(self.opStack.pop())\n",
    "                self.opStack.push(token)\n",
    "        while not self.opStack.isEmpty():\n",
    "            self.output.append(self.opStack.pop())\n",
    "        return \" \".join(self.output)\n",
    "    \n",
    "    def postfixEval(self, postfix):\n",
    "        for token in postfix:\n",
    "            if self.isDigit(token):\n",
    "                self.opStack.push(int(token))\n",
    "            else:\n",
    "                operand2 = self.opStack.pop()\n",
    "                operand1 = self.opStack.pop()\n",
    "                self.opStack.push(self.doMath(token, operand1, operand2))\n",
    "        return self.opStack.pop()\n",
    "                \n",
    "    def infixToPrefix(self, infix):\n",
    "        for token in infix:\n",
    "            if self.isOperand(token):\n",
    "                self.opStack_2.push(token)\n",
    "            elif token == ')':\n",
    "                self.opStack.push(token)\n",
    "            elif token == '(':\n",
    "                topToken = self.opStack.pop()\n",
    "                while topToken != ')':\n",
    "                    self.opStack_2.push(topToken)\n",
    "                    topToken = self.opStack.pop()\n",
    "            else:\n",
    "                while (not self.opStack.isEmpty()) and (self.precedence[self.opStack.peek()] >= self.precedence[token]):\n",
    "                      self.opStack_2.push(self.opStack.pop())\n",
    "                self.opStack.push(token)\n",
    "        while not self.opStack.isEmpty():\n",
    "            self.opStack_2.push(self.opStack.pop())\n",
    "        while not self.opStack_2.isEmpty():\n",
    "            self.output.append(self.opStack_2.pop())\n",
    "        return \" \".join(self.output)\n",
    "    \n",
    "    def prefixEval(self, prefix):\n",
    "        for token in prefix:\n",
    "            if self.isDigit(token):\n",
    "                self.opStack.push(int(token))\n",
    "            else:\n",
    "                operand1 = self.opStack.pop()\n",
    "                operand2 = self.opStack.pop()\n",
    "                self.opStack.push(self.doMath(token, operand1, operand2))\n",
    "        return self.opStack.pop()\n",
    "        \n",
    "    def doMath(self, op, op1, op2):\n",
    "        if op == '*':\n",
    "            return op1 * op2\n",
    "        elif op == '^':\n",
    "            return op1 ** op2\n",
    "        elif op == '/':\n",
    "            return op1 / op2\n",
    "        elif op == '+':\n",
    "            return op1 + op2\n",
    "        else:\n",
    "            return op1 - op2"
   ]
  },
  {
   "cell_type": "code",
   "execution_count": 14,
   "metadata": {},
   "outputs": [
    {
     "name": "stdout",
     "output_type": "stream",
     "text": [
      "a b * c d * +\n",
      "A B + C * D E - F G + * -\n",
      "- * + A B C * - D E + F G\n",
      "A H ^ B + C * D E - F G + * -\n"
     ]
    }
   ],
   "source": [
    "p = Infix()\n",
    "\n",
    "print(p.infixToPostfix('a*b+c*d'))\n",
    "p.output = []\n",
    "print(p.infixToPostfix(\"(A+B)*C-(D-E)*(F+G)\"))\n",
    "p.output = []\n",
    "print(p.infixToPrefix(\"(A+B)*C-(D-E)*(F+G)\"[::-1]))\n",
    "p.output = []\n",
    "print(p.infixToPostfix(\"(A^H+B)*C-(D-E)*(F+G)\"))"
   ]
  },
  {
   "cell_type": "code",
   "execution_count": 15,
   "metadata": {},
   "outputs": [
    {
     "name": "stdout",
     "output_type": "stream",
     "text": [
      "3.0\n",
      "5\n"
     ]
    }
   ],
   "source": [
    "p.output = []\n",
    "print(p.postfixEval('78+32+/'))\n",
    "print(p.prefixEval('+*-2349'[::-1]))"
   ]
  },
  {
   "cell_type": "code",
   "execution_count": null,
   "metadata": {},
   "outputs": [],
   "source": []
  }
 ],
 "metadata": {
  "kernelspec": {
   "display_name": "Python 3",
   "language": "python",
   "name": "python3"
  },
  "language_info": {
   "codemirror_mode": {
    "name": "ipython",
    "version": 3
   },
   "file_extension": ".py",
   "mimetype": "text/x-python",
   "name": "python",
   "nbconvert_exporter": "python",
   "pygments_lexer": "ipython3",
   "version": "3.6.6"
  }
 },
 "nbformat": 4,
 "nbformat_minor": 2
}
